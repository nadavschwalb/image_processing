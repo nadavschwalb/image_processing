{
  "cells": [
    {
      "cell_type": "markdown",
      "metadata": {
        "id": "view-in-github",
        "colab_type": "text"
      },
      "source": [
        "<a href=\"https://colab.research.google.com/github/nadavschwalb/image_processing/blob/main/Lab6_v2.ipynb\" target=\"_parent\"><img src=\"https://colab.research.google.com/assets/colab-badge.svg\" alt=\"Open In Colab\"/></a>"
      ]
    },
    {
      "cell_type": "markdown",
      "metadata": {
        "id": "YlWn-wJRsWIo",
        "nbpresent": {
          "id": "a8a91dc7-090e-4553-8fd8-34d2f4588f4e"
        }
      },
      "source": [
        "<h1><center> Lab 6 - JPEG Compressionend </center></h1>"
      ]
    },
    {
      "cell_type": "markdown",
      "metadata": {
        "id": "JQTZE-mcsWIp",
        "nbpresent": {
          "id": "1c0b3f48-22a6-401e-b2e1-37a21ddf5ef8"
        }
      },
      "source": [
        "## Goal: Introduction of principles of the JPEG baseline coding system."
      ]
    },
    {
      "cell_type": "markdown",
      "source": [
        "**Student IDs: 206180507 , 302208251**"
      ],
      "metadata": {
        "id": "HUvVVdJJaCFo"
      }
    },
    {
      "cell_type": "code",
      "source": [
        "from google.colab import drive\n",
        "drive.mount('/content/drive/')"
      ],
      "metadata": {
        "id": "0blm_abtXEAD",
        "colab": {
          "base_uri": "https://localhost:8080/"
        },
        "outputId": "3115f09a-b4af-4231-d057-5e632381b1fc"
      },
      "execution_count": 4,
      "outputs": [
        {
          "output_type": "stream",
          "name": "stdout",
          "text": [
            "Drive already mounted at /content/drive/; to attempt to forcibly remount, call drive.mount(\"/content/drive/\", force_remount=True).\n"
          ]
        }
      ]
    },
    {
      "cell_type": "code",
      "source": [
        "%cd '/content/drive/My Drive/image_processing/Lab_6'\n",
        "%ls\n",
        "import os\n",
        "path = os.getcwd() \n",
        "print('path: ' + path)"
      ],
      "metadata": {
        "id": "CP2HMBnXYFWi",
        "colab": {
          "base_uri": "https://localhost:8080/"
        },
        "outputId": "31bd4b33-de97-4dd8-cfc9-f74431b36ff8"
      },
      "execution_count": 5,
      "outputs": [
        {
          "output_type": "stream",
          "name": "stdout",
          "text": [
            "/content/drive/.shortcut-targets-by-id/1v9OpRtyz-wDF8ankyi5-Z5prTKKvv1il/image_processing/Lab_6\n",
            "fresh_prince.png\n",
            "path: /content/drive/.shortcut-targets-by-id/1v9OpRtyz-wDF8ankyi5-Z5prTKKvv1il/image_processing/Lab_6\n"
          ]
        }
      ]
    },
    {
      "cell_type": "markdown",
      "metadata": {
        "id": "yL5Ki4tAsWIs",
        "nbpresent": {
          "id": "3cbfea80-b8b2-4a8f-b7d8-f19b42dc2e42"
        }
      },
      "source": [
        "Import the necessary libraries:"
      ]
    },
    {
      "cell_type": "code",
      "execution_count": 25,
      "metadata": {
        "id": "DSDTGrAXsWIt",
        "nbpresent": {
          "id": "da9c5657-97c4-41da-a658-29db455698af"
        }
      },
      "outputs": [],
      "source": [
        "%matplotlib inline \n",
        "import numpy as np\n",
        "import matplotlib.pyplot as plt\n",
        "from skimage import transform,io,util,img_as_ubyte, color\n",
        "import cv2\n",
        "from skimage import restoration\n",
        "import sys\n",
        "import math\n",
        "from PIL import Image\n",
        "from scipy import fftpack"
      ]
    },
    {
      "cell_type": "markdown",
      "source": [
        "# 1. Helper Functions"
      ],
      "metadata": {
        "id": "s0ZAdH97UEt5"
      }
    },
    {
      "cell_type": "markdown",
      "metadata": {
        "id": "PwpJjuu8yq97"
      },
      "source": [
        "In this section you will implement several helper functions which will be used in your implementation of JPEG compression and decompression. "
      ]
    },
    {
      "cell_type": "markdown",
      "source": [
        "The functions ***quantize*** and ***dequantize*** are given:\n",
        "\n"
      ],
      "metadata": {
        "id": "F11wpkxcUVOF"
      }
    },
    {
      "cell_type": "code",
      "execution_count": 26,
      "metadata": {
        "id": "n5HgvvjRyq98"
      },
      "outputs": [],
      "source": [
        "def load_quantization_table(quality,block_size):\n",
        "    q = np.array([[16, 11, 10, 16, 24, 40, 51, 61],\n",
        "            [12, 12, 14, 19, 26, 58, 60, 55],\n",
        "            [14, 13, 16, 24, 40, 57, 69, 56],\n",
        "            [14, 17, 22, 29, 51, 87, 80, 62],\n",
        "            [18, 22, 37, 56, 68, 109, 103, 77],\n",
        "            [24, 35, 55, 64, 81, 104, 113, 92],\n",
        "            [49, 64, 78, 87, 103, 121, 120, 101],\n",
        "            [72, 92, 95, 98, 112, 100, 103, 99]])* quality   # JPEG normalizing array and zig-zag reordering\n",
        "    if (block_size != 8):\n",
        "        q = transform.resize(q, (block_size, block_size), preserve_range=True)\n",
        "    return q\n",
        "\n",
        "def quantize(block, quality,block_size):\n",
        "    q = load_quantization_table(quality,block_size)\n",
        "    return np.array((block / q).round().astype(np.int32))\n",
        "\n",
        "def dequantize(block, quality,block_size):\n",
        "    q = load_quantization_table(quality,block_size)\n",
        "    return block * q"
      ]
    },
    {
      "cell_type": "markdown",
      "source": [
        "1.   Complete the funcion ***zigzag(M,N)*** written in the preliminary report:"
      ],
      "metadata": {
        "id": "qBwf2ZywMYxF"
      }
    },
    {
      "cell_type": "code",
      "source": [
        "def zigzag(M,N):\n",
        "  ## Your code here ##\n",
        "  zigzag_order = [[] for i in range(M+N-1)]\n",
        "  for i in range(M):\n",
        "    for j in range(N):\n",
        "      diagonal_num = i+j\n",
        "      if diagonal_num%2 == 0:\n",
        "        zigzag_order[diagonal_num].append(i*N + j) # even row up\n",
        "      else:\n",
        "        zigzag_order[diagonal_num].insert(0,i*N + j) #odd row down\n",
        "        \n",
        "  result = []\n",
        "  for diag in zigzag_order:\n",
        "    for j in diag:\n",
        "      result.append(j)\n",
        "  return result"
      ],
      "metadata": {
        "id": "WZw4H1lRMk7P"
      },
      "execution_count": 9,
      "outputs": []
    },
    {
      "cell_type": "markdown",
      "source": [
        "2.   Implement ***block_to_zigzag(block, order)***\n",
        "\n",
        "This function transforms a *block_size* x *block_size* block of your image to a 1D array ordered according to the list of indices given in *order*. \n",
        "\n",
        "Hint: Use block.flatten()\n",
        "\n",
        "3.   Implement ***zigzag_to_block(zigzag, order)***\n",
        "\n",
        "This function performs the inverse operation. Given a 1D array ordered according to the list of indices given in *order*, it transforms it to a **square** block with its elements in their original location.\n"
      ],
      "metadata": {
        "id": "ETlwgyEdRRAn"
      }
    },
    {
      "cell_type": "code",
      "source": [
        "def block_to_zigzag(block,order):\n",
        "    M = block.shape[0]\n",
        "    zigzag_array = zigzag(M,M)\n",
        "    zigzag_result = np.zeros((M**2,1))\n",
        "    for k in range(len(zigzag_array)):\n",
        "      i = zigzag_array[k] / M\n",
        "      j = zigzag_array[k] % M\n",
        "      i = i.astype(int)\n",
        "      j = j.astype(int)\n",
        "      zigzag_result[k] = block[i,j]\n",
        "    return zigzag_result\n",
        "\n",
        "    def find(order,index):\n",
        "      for i in range(len(order)):\n",
        "        if(order[i]==index):\n",
        "          return i\n",
        "      return -1\n",
        "\n",
        "\n",
        "def zigzag_to_block(zigzag,order):\n",
        "    rows = int(math.sqrt(len(zigzag)))\n",
        "    order = order.astype(int)\n",
        "    block = np.zeros((rows,rows), np.int32)\n",
        "    for i in range(rows):\n",
        "      for j in range(rows):\n",
        "        index = i*rows + j\n",
        "        for m in range(len(order)):\n",
        "          if (order[m] == index):\n",
        "            index = m\n",
        "        block[i,j] = zigzag[m]\n",
        "    return block"
      ],
      "metadata": {
        "id": "PfSl-wasRRig"
      },
      "execution_count": 27,
      "outputs": []
    },
    {
      "cell_type": "markdown",
      "source": [
        "4. Implement 2D DCT and IDCT.\n",
        "\n",
        "Expand your 1D function ***my_dct*** to 2D. Here you may use ***fftpack.dct*** and ***fftpack.idct***."
      ],
      "metadata": {
        "id": "o3nGgjvtMvLg"
      }
    },
    {
      "cell_type": "code",
      "source": [
        "def dct_2d(image):\n",
        "  image = fftpack.dct(fftpack.dct(image.T, norm='ortho').T, norm='ortho')\n",
        "  return image\n",
        "\n",
        "def idct_2d(image):\n",
        "  image = fftpack.idct(fftpack.idct(image.T, norm='ortho').T, norm='ortho')\n",
        "  image[image>127] = 127\n",
        "  image[image<-128] = -128\n",
        "  return image"
      ],
      "metadata": {
        "id": "o8rMNK-iMujK"
      },
      "execution_count": 30,
      "outputs": []
    },
    {
      "cell_type": "markdown",
      "source": [
        "# 2. JPEG Compression and Decompression"
      ],
      "metadata": {
        "id": "wyRZbvecUe9F"
      }
    },
    {
      "cell_type": "markdown",
      "metadata": {
        "id": "nLemwpNYvARJ"
      },
      "source": [
        "1.   Load and show the image of your choice (grayscale). Covert it to uint32.\n",
        "\n"
      ]
    },
    {
      "cell_type": "code",
      "execution_count": 38,
      "metadata": {
        "id": "2ZgUQKansWI4",
        "nbpresent": {
          "id": "9b2784d6-9892-4598-8129-131052c0fe39"
        },
        "colab": {
          "base_uri": "https://localhost:8080/",
          "height": 287
        },
        "outputId": "3ac15812-2c88-471a-d9b2-c66ffc07d691"
      },
      "outputs": [
        {
          "output_type": "stream",
          "name": "stdout",
          "text": [
            "Image shape: (300, 300), Image data type: uint32\n"
          ]
        },
        {
          "output_type": "display_data",
          "data": {
            "image/png": "[encoded data removed]",
            "text/plain": [
              "<Figure size 432x288 with 1 Axes>"
            ]
          },
          "metadata": {
            "needs_background": "light"
          }
        }
      ],
      "source": [
        "NewYear_img = plt.imread('new_year.bmp')\n",
        "\n",
        "NewYear_img = cv2.cvtColor(NewYear_img,cv2.COLOR_RGB2GRAY)\n",
        "NewYear_img = cv2.resize(NewYear_img, (300,300), interpolation=cv2.INTER_LINEAR)\n",
        "NewYear_img = np.uint32(img_as_ubyte(NewYear_img))\n",
        "print (\"Image shape: {}, Image data type: {}\".format(NewYear_img.shape,NewYear_img.dtype))\n",
        "plt.imshow(NewYear_img, cmap = 'gray')\n",
        "plt.show()"
      ]
    },
    {
      "cell_type": "markdown",
      "source": [
        "2.   Complete the missing code in the following ***im2jpeg*** implementation of JPEG compression and decompression.\n",
        "\n"
      ],
      "metadata": {
        "id": "PQ35O-FdU-AU"
      }
    },
    {
      "cell_type": "code",
      "execution_count": 39,
      "metadata": {
        "id": "VSqssL0byq-S"
      },
      "outputs": [],
      "source": [
        "# im2jpeg Compresses an image using a JPEG approximation.\n",
        "# im2jpeg(img,block_size, quality) compresses image based on block_size x block_size DCT transforms and coefficient quantization.\n",
        "# Input quality determines the amount of information that is lost and compression achieved. \n",
        "\n",
        "def im2jpeg(img, block_size=8, quality=1):\n",
        "    if not isinstance(img, np.ndarray) or img.dtype != np.uint32: \n",
        "        print(\"The input must be a UINT32 image.\")\n",
        "        return\n",
        "    rows, cols = img.shape[0], img.shape[1]\n",
        "    # block size: (block_size x block_size)\n",
        "    if rows % block_size == cols % block_size == 0:\n",
        "        blocks_count = rows // block_size * cols // block_size\n",
        "    else:\n",
        "        raise ValueError((\"the width and height of the image \"\n",
        "                          \"should both be mutiples of {}\".format(block_size)))\n",
        "\n",
        "    # End-Of-Block (EOB) symbol\n",
        "    eob = 256\n",
        "    jpeg_list = list()\n",
        "    \n",
        "    # find the zigzag order\n",
        "    order = zigzag(block_size, block_size)\n",
        "\n",
        "    # loop over image blocks\n",
        "    for i in range(0, rows, block_size):\n",
        "        for j in range(0, cols, block_size):\n",
        "                # 1. extract a block of size block_size x block_size and center the data range on zero: [0, 255] --> [-128, 127]:\n",
        "                block = (img[i:i+block_size, j:j+block_size] - 128).astype(np.int32)\n",
        "\n",
        "                # 2. perform dct to the block:\n",
        "                block_dct = dct_2d(block)\n",
        "\n",
        "                # 3. quantize your dct block using given quality factor:\n",
        "                block_dct_quantize = quantize(block_dct,quality,block_size)\n",
        "\n",
        "                # 4. reorder in a zigzag pattern\n",
        "                zigzag_pattern = block_to_zigzag(block_dct_quantize, order)\n",
        "\n",
        "                # 5. omit trailing zeros in reordered block\n",
        "                nonzero = np.flatnonzero(zigzag_pattern)\n",
        "                if nonzero.size == 0:\n",
        "                  nonzero = 0\n",
        "                else:\n",
        "                  nonzero = nonzero[-1]\n",
        "                  zigzag_nonzero = np.zeros((nonzero+2,1),dtype=np.int32)\n",
        "                  zigzag_nonzero[:nonzero+1] = zigzag_pattern[:nonzero+1]\n",
        "                \n",
        "                # 6. add eob in the end of the block\n",
        "                zigzag_nonzero[:nonzero+1] = eob\n",
        "                \n",
        "                # 7. append the dct block to the list\n",
        "                jpeg_list.append(zigzag_nonzero)\n",
        "                \n",
        "    #convert the list to array\n",
        "    jpeg_array = np.concatenate(jpeg_list,axis=None)\n",
        "    return jpeg_array\n",
        "\n",
        "\n",
        "\n",
        "# jpeg2im Decodes an IM2JPEG compressed image.\n",
        "# jpeg2im(jpeg_img,block_size,quality) decodes compressed image jpeg_img, generating reconstructed approximation X. \n",
        "# jpeg_img is generated by im2jpeg.\n",
        "\n",
        "def jpeg2im(jpeg_img, block_size=8, quality = 1):\n",
        "    eob = 256\n",
        "    \n",
        "    # find the zigzag order\n",
        "    order = zigzag(block_size, block_size)\n",
        "\n",
        "    # find the End-Of-Block (EOB) symbols\n",
        "    ends_of_blocks = np.where(jpeg_img == eob)[0]\n",
        "    num_of_block = ends_of_blocks.shape[0]\n",
        "    \n",
        "    # assuming that the image height and width are equal\n",
        "    image_side = int(math.sqrt(num_of_block)) * block_size\n",
        "    blocks_per_line = image_side // block_size\n",
        "    \n",
        "    # create new empty image: \n",
        "    npmat = np.empty((image_side, image_side), dtype=np.int32)\n",
        "    \n",
        "    start = 0\n",
        "    for block_index, end in enumerate(ends_of_blocks):\n",
        "        # 1. initialize new block\n",
        "        zz_list = np.zeros(block_size*block_size)\n",
        "\n",
        "        # 2. assign values from jpeg_img into beginning of zz_list\n",
        "        zz_list[:end-start] = jpeg_img[start:end]\n",
        "\n",
        "        # 3. convert zz_list back into block\n",
        "        quant_matrix = zigzag_to_block(zz_list, order)\n",
        "\n",
        "        # 4. dequnatize\n",
        "        dct_matrix = dequantize(quant_matrix,quality,block_size)\n",
        "\n",
        "        # 5. perform idct to block\n",
        "        block = idct_2d(dct_matrix)\n",
        "\n",
        "        # find the place in the image to put the block\n",
        "        i = (block_index // blocks_per_line * block_size) \n",
        "        j = (block_index % blocks_per_line * block_size)\n",
        "        npmat[i:i+block_size, j:j+block_size] = block + 128\n",
        "        start = end + 1\n",
        "    \n",
        "    return npmat\n",
        "    "
      ]
    },
    {
      "cell_type": "markdown",
      "metadata": {
        "id": "X7mbHTHksWJA"
      },
      "source": [
        "3. Compress your image using the JPEG compression algorithm calling ***im2jpeg*** and restore the image from its compressed form calling ***jpeg2im***.   \n",
        "    * Present the original and restored images.\n",
        "    * Print the number of elements in the original and compressed images. \n",
        "    * Explain why blocking effects can be seen in the restored image.   \n",
        "    * Show the blocking effects by zooming in for intresting parts of the image. "
      ]
    },
    {
      "cell_type": "code",
      "execution_count": null,
      "metadata": {
        "id": "_U2hQKPAyq-Z"
      },
      "outputs": [],
      "source": [
        ""
      ]
    },
    {
      "cell_type": "markdown",
      "source": [
        "Write your answer here"
      ],
      "metadata": {
        "id": "7Fk-QHLgVcbG"
      }
    },
    {
      "cell_type": "markdown",
      "source": [
        "# 3. Analysis"
      ],
      "metadata": {
        "id": "vumtBym5WxMz"
      }
    },
    {
      "cell_type": "markdown",
      "metadata": {
        "id": "17gbqI1ysgM8"
      },
      "source": [
        "1. Plot the graph of compression ratio (Y axis) versus a “quality” parameter of *im2jpeg* (X axis). Use the supplied function *imratio*.  \n",
        "\n",
        "Use the following quality parameters: 1,2,4,6,8,10,12,16,20,25\n",
        "\n",
        "__Remark:__ the “quality” parameter defines the quality of compression and not the quality of restoration. It is defined to be greater or equal to 1. The “quality” equal to 1 corresponds to the best quality of restoration and the worst quality of compression.\n"
      ]
    },
    {
      "cell_type": "code",
      "execution_count": null,
      "metadata": {
        "id": "0O03kgy9yq-j"
      },
      "outputs": [],
      "source": [
        "def imratio(original_img1,compressed_img2):\n",
        "    return float(compressed_img2.nbytes)/original_img1.nbytes"
      ]
    },
    {
      "cell_type": "code",
      "execution_count": null,
      "metadata": {
        "id": "mmZ8zcjAsgNB"
      },
      "outputs": [],
      "source": [
        ""
      ]
    },
    {
      "cell_type": "markdown",
      "source": [
        "Explain your results here"
      ],
      "metadata": {
        "id": "uOK9bkokXXKE"
      }
    },
    {
      "cell_type": "markdown",
      "metadata": {
        "id": "6oq82EGgsgNH"
      },
      "source": [
        "2. The Root Mean Square (RMS) error of restoration is defined in the following way:  \n",
        "\\begin{equation*}\n",
        "RMS = \\left( \\frac{1}{MN}  \\sum_{k=0}^{M-1} \\sum_{k=0}^{N-1} (\\hat{f}(i,j)-f(i,j))^2 \\right)^{0.5}\n",
        "\\end{equation*}\n",
        "\n",
        "    where $f(i, j)$ is the original image, $\\hat{f}(i,j)$ is the restored image and $M \\times N$ is the size of both images.    \n",
        "    \n",
        "    Plot the graph of Root Mean Square (RMS) Error of restoration (Y axis) versus compression ratio (X axis). This graph is called Rate-Distortion curve.  \n",
        "    \n",
        "__Hint__: you can use the supplied functions *imratio*.\n",
        "\n"
      ]
    },
    {
      "cell_type": "code",
      "execution_count": null,
      "metadata": {
        "id": "2zyWchqAsgNK"
      },
      "outputs": [],
      "source": [
        ""
      ]
    },
    {
      "cell_type": "markdown",
      "source": [
        "Explain your results here"
      ],
      "metadata": {
        "id": "qSsuC7dgXuHn"
      }
    },
    {
      "cell_type": "markdown",
      "metadata": {
        "id": "krTYEjgIsgNQ"
      },
      "source": [
        "3.\tRepeat question 2.3 for block sizes __4X4__ and __16X16__. \n",
        "    * Compare blocking effects for different block sizes.   \n",
        "    * Compare the compression of the algorithm for different block sizes.   \n",
        "    * What are the advantages and disadvantages of changing the block size? "
      ]
    },
    {
      "cell_type": "code",
      "execution_count": null,
      "metadata": {
        "id": "8Jy-_LgByq-8"
      },
      "outputs": [],
      "source": [
        ""
      ]
    },
    {
      "cell_type": "markdown",
      "source": [
        "Insert your answers here"
      ],
      "metadata": {
        "id": "WS9bMxuVYgFH"
      }
    },
    {
      "cell_type": "markdown",
      "metadata": {
        "id": "GmpME_Hcyq_G"
      },
      "source": [
        "4. Use the following python build in function for JPEG compression:\n",
        "        result = Image.fromarray((img).astype(np.uint8))\n",
        "        result.save(Compressed_File_Name,\"JPEG\",optimize=True,quality= Your_quality)\n",
        "   * Compress your image by using this function.\n",
        "   * Load and show the compressed image. \n",
        "   * Compare the saved compressed image size in memory vs. the origonal image size.\n",
        "   * Plot the compressed imag with quality of: 4, 10, 60.\n",
        "   \n",
        "   \n",
        "__Note__: The 'quality' parameter is different here from the 'quality' parameter that we used in this lab implementation.\n"
      ]
    },
    {
      "cell_type": "code",
      "execution_count": null,
      "metadata": {
        "id": "fmzVOdVzyq_I"
      },
      "outputs": [],
      "source": [
        ""
      ]
    },
    {
      "cell_type": "markdown",
      "source": [
        "Insert your answer here"
      ],
      "metadata": {
        "id": "Z9ZPeUYIaQPa"
      }
    }
  ],
  "metadata": {
    "colab": {
      "collapsed_sections": [],
      "name": "Lab6_v2.ipynb",
      "provenance": [],
      "include_colab_link": true
    },
    "kernelspec": {
      "display_name": "Python 3",
      "language": "python",
      "name": "python3"
    },
    "language_info": {
      "codemirror_mode": {
        "name": "ipython",
        "version": 3
      },
      "file_extension": ".py",
      "mimetype": "text/x-python",
      "name": "python",
      "nbconvert_exporter": "python",
      "pygments_lexer": "ipython3",
      "version": "3.7.3"
    }
  },
  "nbformat": 4,
  "nbformat_minor": 0
}