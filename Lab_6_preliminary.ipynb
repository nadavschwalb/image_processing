{
  "nbformat": 4,
  "nbformat_minor": 0,
  "metadata": {
    "colab": {
      "name": "Lab_6_preliminary.ipynb",
      "provenance": [],
      "collapsed_sections": [],
      "authorship_tag": "ABX9TyM5n3RqkcXjoCsTJDjOM5ok",
      "include_colab_link": true
    },
    "kernelspec": {
      "name": "python3",
      "display_name": "Python 3"
    },
    "language_info": {
      "name": "python"
    }
  },
  "cells": [
    {
      "cell_type": "markdown",
      "metadata": {
        "id": "view-in-github",
        "colab_type": "text"
      },
      "source": [
        "<a href=\"https://colab.research.google.com/github/nadavschwalb/image_processing/blob/main/Lab_6_preliminary.ipynb\" target=\"_parent\"><img src=\"https://colab.research.google.com/assets/colab-badge.svg\" alt=\"Open In Colab\"/></a>"
      ]
    },
    {
      "cell_type": "code",
      "execution_count": 46,
      "metadata": {
        "id": "w_xUiRmUfAe8"
      },
      "outputs": [],
      "source": [
        "%matplotlib inline \n",
        "import numpy as np\n",
        "from scipy.fftpack import dct\n",
        "import matplotlib.pyplot as plt"
      ]
    },
    {
      "cell_type": "code",
      "source": [
        "#Mount:\n",
        "from google.colab import drive\n",
        "drive.mount('/content/drive')"
      ],
      "metadata": {
        "id": "pR6VhM98fSQL"
      },
      "execution_count": null,
      "outputs": []
    },
    {
      "cell_type": "code",
      "source": [
        "def my_dct(x):\n",
        "  N = x.shape[0]\n",
        "  X = np.zeros(N)\n",
        "  for k in np.arange(N):\n",
        "    for n in np.arange(N):\n",
        "      X[k] += x[n]*np.cos((np.pi*k*(2*n+1))/(2*N))\n",
        "    X[k] *= 2\n",
        "  return X\n"
      ],
      "metadata": {
        "id": "I1UaxVMefUO8"
      },
      "execution_count": 19,
      "outputs": []
    },
    {
      "cell_type": "code",
      "source": [
        "def my_dct_fft(x):\n",
        "  N = x.shape[0]\n",
        "  k = np.arange(N)\n",
        "  X = np.empty(2*N)\n",
        "  X[:N] = x\n",
        "  X[N:] = x[::-1]\n",
        "  X = np.fft.fft(X)[:N]\n",
        "  X *= np.exp(-1j*np.pi*k/(2*N))\n",
        "  return X.real\n"
      ],
      "metadata": {
        "id": "-kaRGpqKoJG3"
      },
      "execution_count": 21,
      "outputs": []
    },
    {
      "cell_type": "code",
      "source": [
        "x = np.array([4,3,5,6])\n",
        "print(my_dct(x))\n",
        "print(my_dct_fft(x))\n",
        "print(dct(x))\n"
      ],
      "metadata": {
        "colab": {
          "base_uri": "https://localhost:8080/"
        },
        "id": "kFRZeJPTgcrB",
        "outputId": "0401d553-954c-463c-e6e0-4beb658d14d2"
      },
      "execution_count": 22,
      "outputs": [
        {
          "output_type": "stream",
          "name": "stdout",
          "text": [
            "[36.         -5.22625186  2.82842712  2.1647844 ]\n",
            "[36.         -5.22625186  2.82842712  2.1647844 ]\n",
            "[36.         -5.22625186  2.82842712  2.1647844 ]\n"
          ]
        }
      ]
    },
    {
      "cell_type": "code",
      "source": [
        "N = 16\n",
        "x = np.random.rand(N)\n",
        "w = np.arange(N)\n",
        "\n",
        "plt.plot(w,dct(x))\n",
        "plt.plot(w,my_dct(x))\n",
        "plt.plot(w,my_dct_fft(x))\n",
        "plt.legend(['scipy dct','my dct','my dct fft'])\n",
        "\n",
        "\n",
        "my_dct_error = np.max(np.sqrt(np.square(dct(x)-my_dct(x)))) # max square error\n",
        "my_dct_fft_error = np.max(np.sqrt(np.square(dct(x)-my_dct_fft(x)))) # max square error\n",
        "if my_dct_error < 10e-10:\n",
        "  print(f\"my_dct passed: my_dct error  = {my_dct_error}\")\n",
        "else:\n",
        "  print(\"my_dct failed\")\n",
        "if my_dct_fft_error < 10e-10:\n",
        "  print(f\"my_dct_fft passed: my_dct_fft error  = {my_dct_fft_error}\")\n",
        "else:\n",
        "  print(\"my_dct_fft failed\")       "
      ],
      "metadata": {
        "colab": {
          "base_uri": "https://localhost:8080/",
          "height": 302
        },
        "id": "ZWq2TzSDu_ay",
        "outputId": "788938e5-95fd-4d79-b3a1-4249916180ab"
      },
      "execution_count": 63,
      "outputs": [
        {
          "output_type": "stream",
          "name": "stdout",
          "text": [
            "my_dct passed: my_dct error  = 4.6629367034256575e-15\n",
            "my_dct_fft passed: my_dct_fft error  = 5.204170427930421e-16\n"
          ]
        },
        {
          "output_type": "display_data",
          "data": {
            "image/png": "[encoded data removed]",
            "text/plain": [
              "<Figure size 432x288 with 1 Axes>"
            ]
          },
          "metadata": {
            "needs_background": "light"
          }
        }
      ]
    },
    {
      "cell_type": "code",
      "source": [
        "def zigzag(M,N):\n",
        "  zigzag_order = [[] for i in range(M+N-1)]\n",
        "  for i in range(M):\n",
        "    for j in range(N):\n",
        "      diagonal_num = i+j\n",
        "      if diagonal_num%2 == 0:\n",
        "        zigzag_order[diagonal_num].append(i*N + j) # even row up\n",
        "      else:\n",
        "        zigzag_order[diagonal_num].insert(0,i*N + j) #odd row down\n",
        "        \n",
        "  result = []\n",
        "  for diag in zigzag_order:\n",
        "    for j in diag:\n",
        "      result.append(j)\n",
        "  return result\n"
      ],
      "metadata": {
        "id": "2550IzeOu-1G"
      },
      "execution_count": 64,
      "outputs": []
    },
    {
      "cell_type": "code",
      "source": [
        "print(zigzag(3,4))\n",
        "print(zigzag(4,4))\n",
        "print(zigzag(8,8))\n",
        "print(zigzag(16,16))\n"
      ],
      "metadata": {
        "colab": {
          "base_uri": "https://localhost:8080/"
        },
        "id": "CGW0NPjDwup4",
        "outputId": "51e7f1a5-2463-4a47-8212-bf6b7d70e684"
      },
      "execution_count": 65,
      "outputs": [
        {
          "output_type": "stream",
          "name": "stdout",
          "text": [
            "[0, 4, 1, 2, 5, 8, 9, 6, 3, 7, 10, 11]\n",
            "[0, 4, 1, 2, 5, 8, 12, 9, 6, 3, 7, 10, 13, 14, 11, 15]\n",
            "[0, 8, 1, 2, 9, 16, 24, 17, 10, 3, 4, 11, 18, 25, 32, 40, 33, 26, 19, 12, 5, 6, 13, 20, 27, 34, 41, 48, 56, 49, 42, 35, 28, 21, 14, 7, 15, 22, 29, 36, 43, 50, 57, 58, 51, 44, 37, 30, 23, 31, 38, 45, 52, 59, 60, 53, 46, 39, 47, 54, 61, 62, 55, 63]\n",
            "[0, 16, 1, 2, 17, 32, 48, 33, 18, 3, 4, 19, 34, 49, 64, 80, 65, 50, 35, 20, 5, 6, 21, 36, 51, 66, 81, 96, 112, 97, 82, 67, 52, 37, 22, 7, 8, 23, 38, 53, 68, 83, 98, 113, 128, 144, 129, 114, 99, 84, 69, 54, 39, 24, 9, 10, 25, 40, 55, 70, 85, 100, 115, 130, 145, 160, 176, 161, 146, 131, 116, 101, 86, 71, 56, 41, 26, 11, 12, 27, 42, 57, 72, 87, 102, 117, 132, 147, 162, 177, 192, 208, 193, 178, 163, 148, 133, 118, 103, 88, 73, 58, 43, 28, 13, 14, 29, 44, 59, 74, 89, 104, 119, 134, 149, 164, 179, 194, 209, 224, 240, 225, 210, 195, 180, 165, 150, 135, 120, 105, 90, 75, 60, 45, 30, 15, 31, 46, 61, 76, 91, 106, 121, 136, 151, 166, 181, 196, 211, 226, 241, 242, 227, 212, 197, 182, 167, 152, 137, 122, 107, 92, 77, 62, 47, 63, 78, 93, 108, 123, 138, 153, 168, 183, 198, 213, 228, 243, 244, 229, 214, 199, 184, 169, 154, 139, 124, 109, 94, 79, 95, 110, 125, 140, 155, 170, 185, 200, 215, 230, 245, 246, 231, 216, 201, 186, 171, 156, 141, 126, 111, 127, 142, 157, 172, 187, 202, 217, 232, 247, 248, 233, 218, 203, 188, 173, 158, 143, 159, 174, 189, 204, 219, 234, 249, 250, 235, 220, 205, 190, 175, 191, 206, 221, 236, 251, 252, 237, 222, 207, 223, 238, 253, 254, 239, 255]\n"
          ]
        }
      ]
    }
  ]
}