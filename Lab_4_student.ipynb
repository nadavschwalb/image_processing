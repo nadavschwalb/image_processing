{
  "nbformat": 4,
  "nbformat_minor": 0,
  "metadata": {
    "kernelspec": {
      "display_name": "Python 3",
      "language": "python",
      "name": "python3"
    },
    "language_info": {
      "codemirror_mode": {
        "name": "ipython",
        "version": 3
      },
      "file_extension": ".py",
      "mimetype": "text/x-python",
      "name": "python",
      "nbconvert_exporter": "python",
      "pygments_lexer": "ipython3",
      "version": "3.7.3"
    },
    "colab": {
      "name": "Lab 4_student.ipynb",
      "provenance": [],
      "include_colab_link": true
    }
  },
  "cells": [
    {
      "cell_type": "markdown",
      "metadata": {
        "id": "view-in-github",
        "colab_type": "text"
      },
      "source": [
        "<a href=\"https://colab.research.google.com/github/nadavschwalb/image_processing/blob/main/Lab_4_student.ipynb\" target=\"_parent\"><img src=\"https://colab.research.google.com/assets/colab-badge.svg\" alt=\"Open In Colab\"/></a>"
      ]
    },
    {
      "cell_type": "markdown",
      "metadata": {
        "id": "r8mWf_tlPvzL"
      },
      "source": [
        " # <center> Lab 4 – Image Filtering\n",
        " "
      ]
    },
    {
      "cell_type": "markdown",
      "metadata": {
        "id": "Ipd6V3hJPvzS"
      },
      "source": [
        "**Import the necessary libraries for Lab 4:**"
      ]
    },
    {
      "cell_type": "code",
      "metadata": {
        "id": "YOL90Q1PPvzS"
      },
      "source": [
        "%matplotlib inline \n",
        "import numpy as np\n",
        "import cv2\n",
        "import matplotlib.pylab as plt\n",
        "from skimage import transform,io\n",
        "from scipy import signal,ndimage"
      ],
      "execution_count": null,
      "outputs": []
    },
    {
      "cell_type": "markdown",
      "metadata": {
        "id": "_B983EXNPvzU"
      },
      "source": [
        "Load the image of your choice as **grayscale** image:"
      ]
    },
    {
      "cell_type": "code",
      "metadata": {
        "id": "qO5GP93fPvzU"
      },
      "source": [
        ""
      ],
      "execution_count": null,
      "outputs": []
    },
    {
      "cell_type": "markdown",
      "metadata": {
        "id": "WmcQYqMRPvzV"
      },
      "source": [
        "#### **Follow the instructions in each section:**"
      ]
    },
    {
      "cell_type": "markdown",
      "metadata": {
        "id": "drKYKs4MPvzV"
      },
      "source": [
        "___\n",
        "### Part 1 – DFT Properties\n",
        "___"
      ]
    },
    {
      "cell_type": "markdown",
      "metadata": {
        "id": "LduiDeSWPvzW"
      },
      "source": [
        "Use the supplied function *dft_demo()* :"
      ]
    },
    {
      "cell_type": "code",
      "metadata": {
        "id": "q8UNOivXPvzX"
      },
      "source": [
        "def dft_demo():\n",
        "    # Demonstration of effect of the \"fftshift\" command on the amplitude and on the spectrum of the image.\n",
        "    #-----------------------------------------------------------------------------------------------------#\n",
        "    N1 = 100; N2=100; M1=20; M2=20\n",
        "    A = np.zeros([N1,N2])\n",
        "    A[(N1-M1)//2:(N1+M1)//2,(N2-M2)//2:(N2+M2)//2]=255\n",
        "    B = np.fft.fft2(A)\n",
        "    log_magnitude_B= 20*np.log(np.abs(B)+1) # add 1 - in order to prevent log(0)\n",
        "    B_fftshift=np.fft.fftshift(B)\n",
        "    log_magnitude_B_fftshift= 20*np.log(np.abs(B_fftshift)+1)\n",
        "    \n",
        "    fig, axes = plt.subplots(nrows=1, ncols=3, figsize=(8, 8))\n",
        "    ax = axes.ravel()\n",
        "    ax[0].imshow(A, cmap='gray')\n",
        "    ax[0].set_title('The original image'), ax[0].axis('off')\n",
        "    ax[1].imshow(log_magnitude_B, cmap='gray')\n",
        "    ax[1].set_title('|DFT(a)| [dB]')\n",
        "    ax[2].imshow(log_magnitude_B_fftshift, cmap='gray')\n",
        "    ax[2].set_title('|DFT(a)| [dB] + fftshift')\n",
        "    plt.tight_layout()\n",
        "    \n",
        "    # Linearity - 3 demonstrations (two horizontal boxes, two vertical boxes and four boxes)\n",
        "    #----------------------------------------------------------------------------------------------------#\n",
        "    # Two horizontal boxes\n",
        "    delta=40\n",
        "    A2_hor=np.zeros([N1,N2])\n",
        "    A2_hor[(N1-M1)//2:(N1+M1)//2,(N2-delta-M2)//2:(N2-delta+M2)//2]=255\n",
        "    A2_hor[(N1-M1)//2:(N1+M1)//2,(N2+delta-M2)//2:(N2+delta+M2)//2]=255\n",
        "    B2_hor=np.fft.fft2(A2_hor)\n",
        "    B2_hor_magnitude = 20*np.log(np.abs(np.fft.fftshift(B2_hor))+1)\n",
        "    \n",
        "    fig, axes = plt.subplots(nrows=2, ncols=2, figsize=(6, 6))\n",
        "    ax = axes.ravel()\n",
        "    ax[0].imshow(A, cmap='gray')\n",
        "    ax[0].set_title('One box'), ax[0].axis('off')\n",
        "    ax[1].imshow(log_magnitude_B_fftshift, cmap='gray')\n",
        "    ax[1].set_title('|DFT{One box}| [dB]')\n",
        "    ax[2].imshow(A2_hor, cmap='gray')\n",
        "    ax[2].set_title('Two horizontal boxes'), ax[2].axis('off')\n",
        "    ax[3].imshow(B2_hor_magnitude, cmap='gray')\n",
        "    ax[3].set_title('|DFT{Two horizontal boxes}|[dB]')\n",
        "    plt.tight_layout()\n",
        "    \n",
        "    # Two vertical boxes\n",
        "    A2_ver=np.zeros([N1,N2])\n",
        "    A2_ver[(N1-delta-M1)//2:(N1-delta+M1)//2,(N2-M2)//2:(N2+M2)//2]=255\n",
        "    A2_ver[(N1+delta-M1)//2:(N1+delta+M1)//2,(N2-M2)//2:(N2+M2)//2]=255\n",
        "    B2_ver=np.fft.fft2(A2_ver)\n",
        "    B2_ver_magnitude = 20*np.log(np.abs(np.fft.fftshift(B2_ver))+1)\n",
        "    \n",
        "    fig, axes = plt.subplots(nrows=1, ncols=2, figsize=(6, 6))\n",
        "    ax = axes.ravel()\n",
        "    ax[0].imshow(A2_ver, cmap='gray')\n",
        "    ax[0].set_title('Two vertical boxes'), ax[0].axis('off')\n",
        "    ax[1].imshow(B2_ver_magnitude, cmap='gray')\n",
        "    ax[1].set_title('|DFT{Two vertical boxes}|[dB]')\n",
        "    plt.tight_layout()\n",
        "    \n",
        "    # Four boxes\n",
        "    A4=np.zeros([N1,N2])\n",
        "    A4[(N1-delta-M1)//2:(N1-delta+M1)//2,(N2-delta-M2)//2:(N2-delta+M2)//2]=255\n",
        "    A4[(N1+delta-M1)//2:(N1+delta+M1)//2,(N2-delta-M2)//2:(N2-delta+M2)//2]=255\n",
        "    A4[(N1-delta-M1)//2:(N1-delta+M1)//2,(N2+delta-M2)//2:(N2+delta+M2)//2]=255\n",
        "    A4[(N1+delta-M1)//2:(N1+delta+M1)//2,(N2+delta-M2)//2:(N2+delta+M2)//2]=255\n",
        "    B4=np.fft.fft2(A4)\n",
        "    B4_magnitude = 20*np.log(np.abs(np.fft.fftshift(B4))+1)\n",
        "    \n",
        "    fig, axes = plt.subplots(nrows=1, ncols=2, figsize=(6, 6))\n",
        "    ax = axes.ravel()\n",
        "    ax[0].imshow(A4, cmap='gray')\n",
        "    ax[0].set_title('Four boxes'), ax[0].axis('off')\n",
        "    ax[1].imshow(B4_magnitude, cmap='gray')\n",
        "    ax[1].set_title('|DFT{Four boxes}|[dB]')\n",
        "    plt.tight_layout()\n",
        "    \n",
        "    # Scaling (reduction and enlargement)\n",
        "    #----------------------------------------------------------------------------------------------------#\n",
        "    # Reduction\n",
        "    M1_small=10; M2_small=10\n",
        "    A_small = np.zeros([N1,N2])\n",
        "    A_small[(N1-M1_small)//2:(N1+M1_small)//2,(N2-M2_small)//2:(N2+M2_small)//2]=255\n",
        "    B_small = np.fft.fft2(A_small)\n",
        "    log_magnitude_B_small= 20*np.log(np.abs(np.fft.fftshift(B_small))+1)\n",
        "    \n",
        "    # Enlargement\n",
        "    M1_large=40; M2_large=40\n",
        "    A_large = np.zeros([N1,N2])\n",
        "    A_large[(N1-M1_large)//2:(N1+M1_large)//2,(N2-M2_large)//2:(N2+M2_large)//2]=255\n",
        "    B_large = np.fft.fft2(A_large)\n",
        "    log_magnitude_B_large= 20*np.log(np.abs(np.fft.fftshift(B_large))+1)\n",
        "    \n",
        "    fig, axes = plt.subplots(nrows=2, ncols=2, figsize=(6, 6))\n",
        "    ax = axes.ravel()\n",
        "    ax[0].imshow(A_small, cmap='gray')\n",
        "    ax[0].set_title('Reduced image'), ax[0].axis('off')\n",
        "    ax[1].imshow(log_magnitude_B_small, cmap='gray')\n",
        "    ax[1].set_title('|DFT{Reduced A}| [dB]')\n",
        "    ax[2].imshow(A_large, cmap='gray')\n",
        "    ax[2].set_title('Enlarged image'), ax[2].axis('off')\n",
        "    ax[3].imshow(log_magnitude_B_large, cmap='gray')\n",
        "    ax[3].set_title('|DFT{Enlarged A}|[dB]')\n",
        "    plt.tight_layout()\n",
        "    \n",
        "    # Rotation\n",
        "    #----------------------------------------------------------------------------------------------------#\n",
        "    theta = 45 #in degrees\n",
        "    A_rotate = transform.rotate(A, angle=theta)\n",
        "    B_rotate = np.fft.fft2(A_rotate)\n",
        "    log_magnitude_B_rotate= 20*np.log(np.abs(np.fft.fftshift(B_rotate))+1)\n",
        "    \n",
        "    fig, axes = plt.subplots(nrows=1, ncols=2, figsize=(6, 6))\n",
        "    ax = axes.ravel()\n",
        "    ax[0].imshow(A_rotate, cmap='gray')\n",
        "    ax[0].set_title('Rotated image'), ax[0].axis('off')\n",
        "    ax[1].imshow(log_magnitude_B_rotate, cmap='gray')\n",
        "    ax[1].set_title('|DFT{Rotated A}|[dB]')\n",
        "    plt.tight_layout()"
      ],
      "execution_count": null,
      "outputs": []
    },
    {
      "cell_type": "code",
      "metadata": {
        "id": "PoQSa99TPvzZ"
      },
      "source": [
        ""
      ],
      "execution_count": null,
      "outputs": []
    },
    {
      "cell_type": "markdown",
      "metadata": {
        "id": "XOBZn2mOPvza"
      },
      "source": [
        "* Observe the following properties and demonstrations from the *dft_demo()*:\n",
        "  * fftshift command.\n",
        "  * Linearity.\n",
        "  * Scaling.\n",
        "  * Rotation.\n",
        "  \n",
        "Add a short explanation of each of the observations above."
      ]
    },
    {
      "cell_type": "raw",
      "metadata": {
        "id": "bAs680HaPvzb"
      },
      "source": [
        "> Insert your explanation here"
      ]
    },
    {
      "cell_type": "markdown",
      "metadata": {
        "id": "F8PuHSCvPvzb"
      },
      "source": [
        "* Represent the DFT transform of the image of your choice.   \n",
        "  Show the 3 following plots: Your image, the regular transformation without *fftshift* and transformation with the *fftshift* function."
      ]
    },
    {
      "cell_type": "code",
      "metadata": {
        "id": "DWuxSnavPvzc"
      },
      "source": [
        ""
      ],
      "execution_count": null,
      "outputs": []
    },
    {
      "cell_type": "markdown",
      "metadata": {
        "id": "BIFTJY4HPvzc"
      },
      "source": [
        "* Test the following properties with your image:\n",
        "  * Scaling: factors - **½ and 2** \n",
        "  * Rotation: by **30 and 45 degrees**   \n",
        "  \n",
        "   __Note__: for your image the scaling property should be implemented differently than in the demo (you can use the function *transform.rescale*). Also, use zero padding for your image presentation."
      ]
    },
    {
      "cell_type": "code",
      "metadata": {
        "id": "cXI1lr_sPvzd"
      },
      "source": [
        ""
      ],
      "execution_count": null,
      "outputs": []
    },
    {
      "cell_type": "raw",
      "metadata": {
        "id": "4tj5Lt_ZPvzd"
      },
      "source": [
        "> Explain your results here:"
      ]
    },
    {
      "cell_type": "markdown",
      "metadata": {
        "id": "No8ZK8CbPvze"
      },
      "source": [
        "* Use the supplied function to exchange between the magnitude and phase of two images of your choice.  \n",
        "   __Note__: both of the images needed to be with the same shape, resize or crop one of the images if it is necessary."
      ]
    },
    {
      "cell_type": "code",
      "metadata": {
        "id": "2FH3nOImPvze"
      },
      "source": [
        "# Exchange between magnitude and phase\n",
        "def mag_phas_exchange(img1,img2):\n",
        "    img1_spectrum = np.fft.fft2(img1)\n",
        "    img1_magnitude = np.abs(img1_spectrum)\n",
        "    img1_phase = np.angle(img1_spectrum)\n",
        "    img2_spectrum = np.fft.fft2(img2)\n",
        "    img2_magnitude = np.abs(img2_spectrum)\n",
        "    img2_phase = np.angle(img2_spectrum)\n",
        "\n",
        "    # Magnitude of img1, phase of img2\n",
        "    img1_img2_spectrum = img1_magnitude * np.exp(1j*img2_phase)\n",
        "    img1_img2 = np.abs(np.fft.ifft2(img1_img2_spectrum))\n",
        "    \n",
        "    # Magnitude of img2, phase of img1\n",
        "    img2_img1_spectrum = img2_magnitude * np.exp(1j*img1_phase)\n",
        "    img2_img1 = np.abs(np.fft.ifft2(img2_img1_spectrum))\n",
        "    \n",
        "    fig, axes = plt.subplots(nrows=2, ncols=2, figsize=(7, 7))\n",
        "    ax = axes.ravel()\n",
        "    ax[0].imshow(img1, cmap='gray')\n",
        "    ax[0].set_title('Img1'), ax[0].axis('off')\n",
        "    ax[1].imshow(img2, cmap='gray')\n",
        "    ax[1].set_title('Img2'), ax[1].axis('off')\n",
        "    ax[2].imshow(img2_img1, cmap='gray')\n",
        "    ax[2].set_title('Magnitude of img2, phase of img1'), ax[2].axis('off')\n",
        "    ax[3].imshow(img1_img2, cmap='gray')\n",
        "    ax[3].set_title('Magnitude of img1, phase of img2'), ax[3].axis('off')\n",
        "    plt.tight_layout()"
      ],
      "execution_count": null,
      "outputs": []
    },
    {
      "cell_type": "code",
      "metadata": {
        "id": "C6y_7ZB_Pvzf"
      },
      "source": [
        ""
      ],
      "execution_count": null,
      "outputs": []
    },
    {
      "cell_type": "raw",
      "metadata": {
        "id": "nA5tB501Pvzf"
      },
      "source": [
        "> Explanation the results here"
      ]
    },
    {
      "cell_type": "markdown",
      "metadata": {
        "id": "y2otmC3sPvzg"
      },
      "source": [
        "\n",
        "\n",
        "___\n",
        "### Part 2 – Convolution\n",
        "___"
      ]
    },
    {
      "cell_type": "markdown",
      "metadata": {
        "id": "Clp5QWETPvzg"
      },
      "source": [
        "Use the supplied function *conv_demo*.   \n",
        "The function demonstrate the computation of convolution using 2 methods:\n",
        "1. direct method (in spatial domain).\n",
        "2. indirect method (in frequency domain)."
      ]
    },
    {
      "cell_type": "code",
      "metadata": {
        "id": "HxCRrB4bPvzg"
      },
      "source": [
        "def conv_demo():\n",
        "    #----The computation of convolution by direct method (in spatial domain)\n",
        "    N1 = 100; N2=100; M1=30; M2=30\n",
        "    A = np.zeros([N1,N2])\n",
        "    A[(N1-M1)//2:(N1+M1)//2,(N2-M2)//2:(N2+M2)//2]=255\n",
        "    blur_kernel = (1.0/36)*np.ones((6,6))\n",
        "    img_blurred_using_spatial = signal.convolve2d(A,blur_kernel)\n",
        "    fig, axes = plt.subplots(nrows=1, ncols=2, figsize=(7, 7))\n",
        "    ax = axes.ravel()\n",
        "    ax[0].imshow(A, cmap='gray')\n",
        "    ax[0].set_title('The original image'), ax[0].axis('off')\n",
        "    ax[1].imshow(img_blurred_using_spatial, cmap='gray')\n",
        "    ax[1].set_title('The blurred image'), ax[1].axis('off')\n",
        "    plt.tight_layout() \n",
        "\n",
        "    #---The computation of convolution by indirect method (in frequency domain)\n",
        "    N = A.shape[0]+blur_kernel.shape[0]\n",
        "    M = A.shape[1]+blur_kernel.shape[1]\n",
        "    img_spectrum=np.fft.fftshift(np.fft.fft2(A,s=(N,M)))\n",
        "    blur_kernel_spectrum=np.fft.fftshift(np.fft.fft2(blur_kernel,s=(N,M)))\n",
        "    img_blurred_spectrum=img_spectrum*blur_kernel_spectrum\n",
        "    img_blurred_using_dft=np.abs(np.fft.ifft2(img_blurred_spectrum))\n",
        "    \n",
        "    \n",
        "\n",
        "    fig, axes = plt.subplots(nrows=1, ncols=1, figsize=(3, 3))\n",
        "    axes.imshow(A, cmap='gray')\n",
        "    axes.set_title('The original image'), axes.axis('off')\n",
        "    \n",
        "    fig, axes = plt.subplots(nrows=1, ncols=3, figsize=(8, 8))\n",
        "    ax = axes.ravel()\n",
        "    ax[0].imshow(20*np.log(np.abs(img_spectrum)+1), cmap='gray')\n",
        "    ax[0].set_title('Spectrum of orig. image'), ax[0].axis('off')\n",
        "    ax[1].imshow(20*np.log(np.abs(blur_kernel_spectrum)+1), cmap='gray')\n",
        "    ax[1].set_title('Spectrum of blur. kernel'), ax[1].axis('off')\n",
        "    ax[2].imshow(20*np.log(np.abs(img_blurred_spectrum)+1), cmap='gray')\n",
        "    ax[2].set_title('Spectrum of blur. image'), ax[2].axis('off')\n",
        "    \n",
        "    fig, axes = plt.subplots(nrows=1, ncols=1, figsize=(3, 3))\n",
        "    axes.imshow(img_blurred_using_dft, cmap='gray')\n",
        "    axes.set_title('Blurred image'), axes.axis('off')"
      ],
      "execution_count": null,
      "outputs": []
    },
    {
      "cell_type": "code",
      "metadata": {
        "id": "KIy27Lx4Pvzh"
      },
      "source": [
        ""
      ],
      "execution_count": null,
      "outputs": []
    },
    {
      "cell_type": "markdown",
      "metadata": {
        "id": "4TJFAxLCPvzh"
      },
      "source": [
        "* Observe the results of convolution with those two methods (in spatial domain and in frequency domain)."
      ]
    },
    {
      "cell_type": "raw",
      "metadata": {
        "id": "N0y6v6LOPvzh"
      },
      "source": [
        "> Explanation the results here"
      ]
    },
    {
      "cell_type": "markdown",
      "metadata": {
        "id": "RcbUo3kXPvzi"
      },
      "source": [
        "* Test the implementation of convolution with those two methods on image of your choice.   \n",
        "    Observe your results.  "
      ]
    },
    {
      "cell_type": "code",
      "metadata": {
        "id": "BYMrGo-qPvzi"
      },
      "source": [
        ""
      ],
      "execution_count": null,
      "outputs": []
    },
    {
      "cell_type": "raw",
      "metadata": {
        "id": "Lo903txhPvzi"
      },
      "source": [
        "> Explanation the results here"
      ]
    },
    {
      "cell_type": "markdown",
      "metadata": {
        "id": "VhoPQfSIPvzi"
      },
      "source": [
        "* Implement convolution with median filter using python’s *ndimage.median_filter* and uniform filter by using *ndimage.uniform_filter*.    \n",
        "    Explain the difference between your results."
      ]
    },
    {
      "cell_type": "code",
      "metadata": {
        "id": "hFAc65AHPvzi"
      },
      "source": [
        ""
      ],
      "execution_count": null,
      "outputs": []
    },
    {
      "cell_type": "raw",
      "metadata": {
        "id": "-dnwZC6aPvzj"
      },
      "source": [
        "> Explain your results here"
      ]
    },
    {
      "cell_type": "markdown",
      "metadata": {
        "id": "3ycS48hGPvzj"
      },
      "source": [
        "* Observe the Fourier Transform of the filters in the given demo.   \n",
        "    Determine which filter are high pass filters and which are low pass filters."
      ]
    },
    {
      "cell_type": "code",
      "metadata": {
        "id": "BZBlQp3ePvzj"
      },
      "source": [
        "# simple averaging filter without scaling parameter\n",
        "mean_filter = np.ones((3,3))\n",
        "\n",
        "# creating a guassian filter\n",
        "x = cv2.getGaussianKernel(5,0.5)\n",
        "gaussian = x*x.T\n",
        "\n",
        "# different edge detecting filters\n",
        "# scharr in x-direction\n",
        "scharr = np.array([[-3, 0, 3],\n",
        "                   [-10,0,10],\n",
        "                   [-3, 0, 3]])\n",
        "# sobel in x direction\n",
        "sobel_x= np.array([[-1, 0, 1],\n",
        "                   [-2, 0, 2],\n",
        "                   [-1, 0, 1]])\n",
        "# sobel in y direction\n",
        "sobel_y= np.array([[-1,-2,-1],\n",
        "                   [0, 0, 0],\n",
        "                   [1, 2, 1]])\n",
        "# laplacian\n",
        "laplacian=np.array([[0, 1, 0],\n",
        "                    [1,-4, 1],\n",
        "                    [0, 1, 0]])\n",
        "\n",
        "filters = [mean_filter, gaussian, laplacian, sobel_x, sobel_y, scharr]\n",
        "filter_name = ['mean_filter', 'gaussian','laplacian', 'sobel_x', \\\n",
        "                'sobel_y', 'scharr_x']\n",
        "fft_filters = [np.fft.fft2(x) for x in filters]\n",
        "fft_shift = [np.fft.fftshift(y) for y in fft_filters]\n",
        "mag_spectrum = [np.log(np.abs(z)+1) for z in fft_shift]\n",
        "\n",
        "for i in range(6):\n",
        "    plt.subplot(2,3,i+1),plt.imshow(mag_spectrum[i],cmap = 'gray')\n",
        "    plt.title(filter_name[i]), plt.xticks([]), plt.yticks([])\n",
        "plt.show()"
      ],
      "execution_count": null,
      "outputs": []
    },
    {
      "cell_type": "raw",
      "metadata": {
        "id": "_4XL0k98Pvzj"
      },
      "source": [
        "> Inser your answers here"
      ]
    },
    {
      "cell_type": "markdown",
      "metadata": {
        "id": "RiN3nyzuPvzk"
      },
      "source": [
        "__Bonus__: Implement the following filters with the image of your choice."
      ]
    },
    {
      "cell_type": "code",
      "metadata": {
        "id": "89XpGRFRPvzk"
      },
      "source": [
        ""
      ],
      "execution_count": null,
      "outputs": []
    },
    {
      "cell_type": "markdown",
      "metadata": {
        "id": "C0dx8rXIPvzk"
      },
      "source": [
        "___\n",
        "### Part 3 – Unsharp masking\n",
        "___"
      ]
    },
    {
      "cell_type": "markdown",
      "metadata": {
        "id": "l9CODHv3Pvzk"
      },
      "source": [
        "Use the supplied function *unsharp_masking_demo*.\n",
        "*\tTest the function with the image of your choice. Optimize lambda1 and lambda2 for your image.\n",
        "*\tExplain the two different sharpening techniques used in the demo and your results."
      ]
    },
    {
      "cell_type": "code",
      "metadata": {
        "id": "mVs47P0IPvzk"
      },
      "source": [
        "def unsharp_masking_demo(img):\n",
        "    # Obtain blurred image using convolution in spatial domain\n",
        "    blur_kernel = (1.0/36)*np.ones((6,6))\n",
        "    img_blurred = transform.resize(signal.convolve2d(img,blur_kernel),(img.shape[0],img.shape[1]))\n",
        "    \n",
        "    # Perform unsharp masking using Laplacian filter \n",
        "    lambda1=0.3; lambda2=1.2\n",
        "    img_laplace = cv2.Laplacian(img,cv2.CV_64F)\n",
        "    img_enhanced_edges = img-lambda1*img_laplace\n",
        "\n",
        "    # Perform unsharp masking using the low pass filtered  image  with parameter lambda2. \n",
        "    img_unsharp= img+lambda2*(img-img_blurred)\n",
        "\n",
        "    # Display the results\n",
        "    fig, axes = plt.subplots(nrows=2, ncols=2, figsize=(8, 8))\n",
        "    ax = axes.ravel()\n",
        "    ax[0].imshow(img, vmin=0,vmax=255,cmap='gray')\n",
        "    ax[0].set_title('Original image'), ax[0].axis('off')\n",
        "    ax[1].imshow(img_blurred,vmin=0,vmax=255, cmap='gray')\n",
        "    ax[1].set_title('Blurred image'), ax[1].axis('off')\n",
        "    ax[2].imshow(img_enhanced_edges, vmin=0,vmax=255, cmap='gray')\n",
        "    ax[2].set_title('Image after laplacian edge enhancement'), ax[2].axis('off')\n",
        "    ax[3].imshow(img_unsharp, vmin=0,vmax=255,cmap='gray')\n",
        "    ax[3].set_title('Image after low pass based unsharp masking'), ax[3].axis('off')\n",
        "    plt.tight_layout()"
      ],
      "execution_count": null,
      "outputs": []
    },
    {
      "cell_type": "code",
      "metadata": {
        "id": "OqBvl5vrPvzk"
      },
      "source": [
        ""
      ],
      "execution_count": null,
      "outputs": []
    },
    {
      "cell_type": "raw",
      "metadata": {
        "id": "CXutfTGpPvzl"
      },
      "source": [
        "> Insert your explanation here"
      ]
    },
    {
      "cell_type": "markdown",
      "metadata": {
        "id": "DUkWDj8oPvzl"
      },
      "source": [
        "* Implement unsharp masking using python’s function *skimage.filters.unsharp_mask*   "
      ]
    },
    {
      "cell_type": "code",
      "metadata": {
        "id": "fsoz95QXPvzl"
      },
      "source": [
        ""
      ],
      "execution_count": null,
      "outputs": []
    },
    {
      "cell_type": "raw",
      "metadata": {
        "id": "GToJiuJePvzl"
      },
      "source": [
        "> Give short explanations on your results"
      ]
    }
  ]
}